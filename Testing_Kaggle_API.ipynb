{
  "nbformat": 4,
  "nbformat_minor": 0,
  "metadata": {
    "colab": {
      "name": "Testing_Kaggle_API.ipynb",
      "provenance": [],
      "collapsed_sections": []
    },
    "kernelspec": {
      "name": "python3",
      "display_name": "Python 3"
    }
  },
  "cells": [
    {
      "cell_type": "markdown",
      "metadata": {
        "id": "VLo3UgVumYYM"
      },
      "source": [
        "Setting Up kaggle API to Directly push the datast from Kaggle API to COLAB\r\n",
        "\r\n"
      ]
    },
    {
      "cell_type": "markdown",
      "metadata": {
        "id": "u93oVQCd0EZg"
      },
      "source": [
        "Install Kaggle dont froget to add ! "
      ]
    },
    {
      "cell_type": "code",
      "metadata": {
        "colab": {
          "base_uri": "https://localhost:8080/"
        },
        "id": "9c9ZT8XOjdGh",
        "outputId": "d90ed95d-87fc-404c-ba3d-1e976a8eb8bb"
      },
      "source": [
        "!pip install kaggle"
      ],
      "execution_count": 13,
      "outputs": [
        {
          "output_type": "stream",
          "text": [
            "Requirement already satisfied: kaggle in /usr/local/lib/python3.7/dist-packages (1.5.10)\n",
            "Requirement already satisfied: six>=1.10 in /usr/local/lib/python3.7/dist-packages (from kaggle) (1.15.0)\n",
            "Requirement already satisfied: urllib3 in /usr/local/lib/python3.7/dist-packages (from kaggle) (1.24.3)\n",
            "Requirement already satisfied: python-dateutil in /usr/local/lib/python3.7/dist-packages (from kaggle) (2.8.1)\n",
            "Requirement already satisfied: tqdm in /usr/local/lib/python3.7/dist-packages (from kaggle) (4.41.1)\n",
            "Requirement already satisfied: certifi in /usr/local/lib/python3.7/dist-packages (from kaggle) (2020.12.5)\n",
            "Requirement already satisfied: python-slugify in /usr/local/lib/python3.7/dist-packages (from kaggle) (4.0.1)\n",
            "Requirement already satisfied: requests in /usr/local/lib/python3.7/dist-packages (from kaggle) (2.23.0)\n",
            "Requirement already satisfied: text-unidecode>=1.3 in /usr/local/lib/python3.7/dist-packages (from python-slugify->kaggle) (1.3)\n",
            "Requirement already satisfied: idna<3,>=2.5 in /usr/local/lib/python3.7/dist-packages (from requests->kaggle) (2.10)\n",
            "Requirement already satisfied: chardet<4,>=3.0.2 in /usr/local/lib/python3.7/dist-packages (from requests->kaggle) (3.0.4)\n"
          ],
          "name": "stdout"
        }
      ]
    },
    {
      "cell_type": "markdown",
      "metadata": {
        "id": "bcT5ASvk0KZY"
      },
      "source": [
        "Create a New Directory"
      ]
    },
    {
      "cell_type": "code",
      "metadata": {
        "colab": {
          "base_uri": "https://localhost:8080/"
        },
        "id": "2_23Q3pBkSqx",
        "outputId": "40df01a6-9930-48ae-ced7-c0c06e2b2bd2"
      },
      "source": [
        "!mkdir .kaggle"
      ],
      "execution_count": 14,
      "outputs": [
        {
          "output_type": "stream",
          "text": [
            "mkdir: cannot create directory ‘.kaggle’: File exists\n"
          ],
          "name": "stdout"
        }
      ]
    },
    {
      "cell_type": "markdown",
      "metadata": {
        "id": "hpBzMTeZ0PD6"
      },
      "source": [
        "Import your Kaggle API Authentication:  Username and Key, Go to Kaggle https://www.kaggle.com/ to your account then click on the create new API Token, You will receive a Username and Key, Keep it safely and dont share "
      ]
    },
    {
      "cell_type": "code",
      "metadata": {
        "id": "1wO-0vvfkfUX"
      },
      "source": [
        "import json\r\n",
        "token = {  \"username\": \"Enter _name _name _name\", \"key\":\"Enter_ Long_Long_Long\"}\r\n",
        "with open('/content/.kaggle/kaggle.json', 'w') as file:\r\n",
        "    json.dump(token, file)"
      ],
      "execution_count": 15,
      "outputs": []
    },
    {
      "cell_type": "markdown",
      "metadata": {
        "id": "wKIHKHkJ0_HJ"
      },
      "source": [
        "To run the File"
      ]
    },
    {
      "cell_type": "code",
      "metadata": {
        "id": "CPOfxvoVlg4D"
      },
      "source": [
        "!cp /content/.kaggle/kaggle.json ~/.kaggle/kaggle.json"
      ],
      "execution_count": 16,
      "outputs": []
    },
    {
      "cell_type": "markdown",
      "metadata": {
        "id": "TzxAYpu01DG3"
      },
      "source": [
        "To configure the path"
      ]
    },
    {
      "cell_type": "code",
      "metadata": {
        "colab": {
          "base_uri": "https://localhost:8080/"
        },
        "id": "HSis8Zuwlltx",
        "outputId": "92c7655a-65fe-4691-e2a9-3e47ef06540a"
      },
      "source": [
        "!kaggle config set -n path -v{/content}"
      ],
      "execution_count": 17,
      "outputs": [
        {
          "output_type": "stream",
          "text": [
            "Warning: Your Kaggle API key is readable by other users on this system! To fix this, you can run 'chmod 600 /root/.kaggle/kaggle.json'\n",
            "- path is now set to: {/content}\n"
          ],
          "name": "stdout"
        }
      ]
    },
    {
      "cell_type": "markdown",
      "metadata": {
        "id": "Eepn6iqJ1NaK"
      },
      "source": [
        " You will get a Warning: Your Kaggle API key is readable by other users on this system! To fix this, you can run 'chmod 600 /root/.kaggle/kaggle.json'\r\n",
        "- path is now set to: {/content}\r\n",
        "\r\n",
        "which can be easily fixed "
      ]
    },
    {
      "cell_type": "code",
      "metadata": {
        "id": "ei1So-9hl_AY"
      },
      "source": [
        "!chmod 600 /root/.kaggle/kaggle.json"
      ],
      "execution_count": 18,
      "outputs": []
    },
    {
      "cell_type": "markdown",
      "metadata": {
        "id": "jLfKp1Yz1WUW"
      },
      "source": [
        "Connection "
      ]
    },
    {
      "cell_type": "code",
      "metadata": {
        "colab": {
          "base_uri": "https://localhost:8080/"
        },
        "id": "5Id5XZIgmCAh",
        "outputId": "01e4e6b5-791b-4982-dd55-c488bbe77ffc"
      },
      "source": [
        "!kaggle datasets list"
      ],
      "execution_count": 19,
      "outputs": [
        {
          "output_type": "stream",
          "text": [
            "Warning: Looks like you're using an outdated API Version, please consider updating (server 1.5.10 / client 1.5.4)\n",
            "ref                                                       title                                         size  lastUpdated          downloadCount  \n",
            "--------------------------------------------------------  -------------------------------------------  -----  -------------------  -------------  \n",
            "michau96/restaurant-business-rankings-2020                Restaurant Business Rankings 2020             16KB  2021-01-30 14:20:45           4976  \n",
            "gpreda/reddit-wallstreetsbets-posts                       Reddit WallStreetBets Posts                    9MB  2021-03-03 08:10:57           2152  \n",
            "yorkehead/stock-market-subreddits                         Stock Market Subreddits                        1MB  2021-01-29 13:53:50            431  \n",
            "aagghh/crypto-telegram-groups                             Crypto telegram groups                       297MB  2021-02-02 09:58:25            255  \n",
            "timoboz/superbowl-history-1967-2020                       Superbowl History 1967 - 2020                  2KB  2020-02-03 23:41:14           4802  \n",
            "prondeau/superbowlads                                     Super Bowl Ads                                36KB  2020-02-04 18:04:07           1329  \n",
            "jessemostipak/african-american-achievements               African American Achievements                 28KB  2020-06-08 22:15:20            311  \n",
            "iainmcintosh/wsb-gme-reddit-submission-vs-stock-price     WSB / GME Reddit submission vs stock price   210KB  2021-01-30 15:31:16             92  \n",
            "docsouth-data/north-american-slave-narratives             North American Slave Narratives               42MB  2017-08-14 18:54:00            214  \n",
            "docsouth-data/the-church-in-the-southern-black-community  The Church in the Southern Black Community    28MB  2017-08-14 19:50:28            136  \n",
            "shivamb/netflix-shows                                     Netflix Movies and TV Shows                    1MB  2021-01-18 16:20:26         101477  \n",
            "gpreda/covid-world-vaccination-progress                   COVID-19 World Vaccination Progress          106KB  2021-03-03 08:10:03          20475  \n",
            "arashnic/hr-analytics-job-change-of-data-scientists       HR Analytics: Job Change of Data Scientists  295KB  2020-12-07 00:25:10          11199  \n",
            "jsphyg/weather-dataset-rattle-package                     Rain in Australia                              4MB  2020-12-11 10:26:12          35820  \n",
            "ayushggarg/all-trumps-twitter-insults-20152021            All Trump's Twitter insults (2015-2021)      581KB  2021-01-20 16:51:05           3730  \n",
            "gregorut/videogamesales                                   Video Game Sales                             381KB  2016-10-26 09:10:49         195217  \n",
            "datasnaek/youtube-new                                     Trending YouTube Video Statistics            201MB  2019-06-03 00:56:47         129354  \n",
            "google/tinyquickdraw                                      QuickDraw Sketches                            11GB  2018-04-18 19:38:04           2878  \n",
            "zynicide/wine-reviews                                     Wine Reviews                                  51MB  2017-11-27 17:08:04         129589  \n",
            "datasnaek/chess                                           Chess Game Dataset (Lichess)                   3MB  2017-09-04 03:09:09          15216  \n"
          ],
          "name": "stdout"
        }
      ]
    },
    {
      "cell_type": "code",
      "metadata": {
        "colab": {
          "base_uri": "https://localhost:8080/"
        },
        "id": "W7-U85l1mXLI",
        "outputId": "6862af5d-c335-4787-9d77-39803844dd12"
      },
      "source": [
        "!kaggle datasets list -s sentiment"
      ],
      "execution_count": 22,
      "outputs": [
        {
          "output_type": "stream",
          "text": [
            "Warning: Looks like you're using an outdated API Version, please consider updating (server 1.5.10 / client 1.5.4)\n",
            "ref                                                       title                                             size  lastUpdated          downloadCount  \n",
            "--------------------------------------------------------  -----------------------------------------------  -----  -------------------  -------------  \n",
            "crowdflower/twitter-airline-sentiment                     Twitter US Airline Sentiment                       3MB  2019-10-16 00:04:05          50232  \n",
            "harriken/emoji-sentiment                                  Emoji sentiment                                   12MB  2017-10-01 09:56:54           2745  \n",
            "kazanova/sentiment140                                     Sentiment140 dataset with 1.6 million tweets      81MB  2017-09-13 22:43:19          48981  \n",
            "yash612/stockmarket-sentiment-dataset                     Stock-Market Sentiment Dataset                   201KB  2020-06-05 19:16:19           2354  \n",
            "bittlingmayer/amazonreviews                               Amazon Reviews for Sentiment Analysis            493MB  2019-11-18 02:50:34          33630  \n",
            "arkhoshghalb/twitter-sentiment-analysis-hatred-speech     Twitter Sentiment Analysis                         2MB  2019-01-06 05:00:19           7812  \n",
            "ankurzing/sentiment-analysis-for-financial-news           Sentiment Analysis for Financial News            903KB  2020-05-27 18:38:15           3229  \n",
            "crowdflower/first-gop-debate-twitter-sentiment            First GOP Debate Twitter Sentiment                 2MB  2019-11-17 21:18:37          18522  \n",
            "mksaad/arabic-sentiment-twitter-corpus                    Arabic Sentiment Twitter Corpus                   17MB  2020-07-27 20:57:37           2100  \n",
            "welkin10/airline-sentiment                                Airline sentiment                                  1MB  2018-05-27 07:23:18           1130  \n",
            "marklvl/sentiment-labelled-sentences-data-set             Sentiment Labelled Sentences Data Set            326KB  2018-04-24 21:20:20           7746  \n",
            "akash14/product-sentiment-classification                  Product Sentiment Classification                 397KB  2020-09-27 20:11:54            189  \n",
            "columbine/imdb-dataset-sentiment-analysis-in-csv-format   IMDB dataset (Sentiment analysis) in CSV format   26MB  2019-11-28 15:44:05           4409  \n",
            "cjroth/chronist                                           Emotion, Aging, and Sentiment Over Time           13MB  2017-02-12 22:44:03           1504  \n",
            "atulanandjha/stanford-sentiment-treebank-v2-sst2          Stanford Sentiment Treebank v2 (SST2)             19MB  2020-03-14 20:27:18           1086  \n",
            "sonaam1234/sentimentdata                                  Sentiment Analysis Dataset                       947KB  2019-11-18 02:41:47           2832  \n",
            "rtatman/sentiment-lexicons-for-81-languages               Sentiment Lexicons for 81 Languages                2MB  2017-09-13 19:59:05           9441  \n",
            "cosmos98/twitter-and-reddit-sentimental-analysis-dataset  Twitter and Reddit Sentimental analysis Dataset   10MB  2019-11-28 14:00:34           1553  \n",
            "lakshmi25npathi/imdb-dataset-of-50k-movie-reviews         IMDB Dataset of 50K Movie Reviews                 26MB  2019-03-09 06:32:21          34806  \n",
            "maxjon/complete-tweet-sentiment-extraction-data           Complete Tweet Sentiment Extraction Data           3MB  2020-04-23 07:25:47            636  \n"
          ],
          "name": "stdout"
        }
      ]
    },
    {
      "cell_type": "code",
      "metadata": {
        "colab": {
          "base_uri": "https://localhost:8080/"
        },
        "id": "5gzp2v89qVcD",
        "outputId": "2346778c-38d1-4ac0-d2e1-75da9f3d2818"
      },
      "source": [
        "!kaggle datasets download -d jessicali9530/kuc-hackathon-winter-2018"
      ],
      "execution_count": 37,
      "outputs": [
        {
          "output_type": "stream",
          "text": [
            "Downloading kuc-hackathon-winter-2018.zip to {/content}/datasets/jessicali9530/kuc-hackathon-winter-2018\n",
            " 93% 38.0M/40.7M [00:00<00:00, 67.5MB/s]\n",
            "100% 40.7M/40.7M [00:00<00:00, 75.3MB/s]\n"
          ],
          "name": "stdout"
        }
      ]
    },
    {
      "cell_type": "markdown",
      "metadata": {
        "id": "6N8wHTPH1sbI"
      },
      "source": [
        "to unzip the file "
      ]
    },
    {
      "cell_type": "code",
      "metadata": {
        "id": "rSHPSpDvqhWC"
      },
      "source": [
        "!unzip \\*.zip"
      ],
      "execution_count": 39,
      "outputs": []
    },
    {
      "cell_type": "markdown",
      "metadata": {
        "id": "pmJboCVF2M_y"
      },
      "source": [
        "To Run the csv and display"
      ]
    },
    {
      "cell_type": "code",
      "metadata": {
        "id": "xjLk7HzutZs_"
      },
      "source": [
        "import pandas as pd\r\n",
        "d = pd.read_csv('Enter_NAME.csv')\r\n",
        "d.head()"
      ],
      "execution_count": null,
      "outputs": []
    }
  ]
}