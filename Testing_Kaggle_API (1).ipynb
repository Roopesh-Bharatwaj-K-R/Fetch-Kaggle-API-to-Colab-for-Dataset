{
  "nbformat": 4,
  "nbformat_minor": 0,
  "metadata": {
    "colab": {
      "name": "Testing_Kaggle_API.ipynb",
      "provenance": [],
      "collapsed_sections": []
    },
    "kernelspec": {
      "name": "python3",
      "display_name": "Python 3"
    }
  },
  "cells": [
    {
      "cell_type": "markdown",
      "metadata": {
        "id": "VLo3UgVumYYM"
      },
      "source": [
        "Setting Up kaggle API to Directly push the datast from Kaggle API to COLAB\r\n",
        "\r\n"
      ]
    },
    {
      "cell_type": "markdown",
      "metadata": {
        "id": "u93oVQCd0EZg"
      },
      "source": [
        "Install Kaggle dont froget to add ! "
      ]
    },
    {
      "cell_type": "code",
      "metadata": {
        "colab": {
          "base_uri": "https://localhost:8080/"
        },
        "id": "9c9ZT8XOjdGh",
        "outputId": "d90ed95d-87fc-404c-ba3d-1e976a8eb8bb"
      },
      "source": [
        "!pip install kaggle"
      ],
      "execution_count": 13,
      "outputs": [
        {
          "output_type": "stream",
          "text": [
            "Requirement already satisfied: kaggle in /usr/local/lib/python3.7/dist-packages (1.5.10)\n",
            "Requirement already satisfied: six>=1.10 in /usr/local/lib/python3.7/dist-packages (from kaggle) (1.15.0)\n",
            "Requirement already satisfied: urllib3 in /usr/local/lib/python3.7/dist-packages (from kaggle) (1.24.3)\n",
            "Requirement already satisfied: python-dateutil in /usr/local/lib/python3.7/dist-packages (from kaggle) (2.8.1)\n",
            "Requirement already satisfied: tqdm in /usr/local/lib/python3.7/dist-packages (from kaggle) (4.41.1)\n",
            "Requirement already satisfied: certifi in /usr/local/lib/python3.7/dist-packages (from kaggle) (2020.12.5)\n",
            "Requirement already satisfied: python-slugify in /usr/local/lib/python3.7/dist-packages (from kaggle) (4.0.1)\n",
            "Requirement already satisfied: requests in /usr/local/lib/python3.7/dist-packages (from kaggle) (2.23.0)\n",
            "Requirement already satisfied: text-unidecode>=1.3 in /usr/local/lib/python3.7/dist-packages (from python-slugify->kaggle) (1.3)\n",
            "Requirement already satisfied: idna<3,>=2.5 in /usr/local/lib/python3.7/dist-packages (from requests->kaggle) (2.10)\n",
            "Requirement already satisfied: chardet<4,>=3.0.2 in /usr/local/lib/python3.7/dist-packages (from requests->kaggle) (3.0.4)\n"
          ],
          "name": "stdout"
        }
      ]
    },
    {
      "cell_type": "markdown",
      "metadata": {
        "id": "bcT5ASvk0KZY"
      },
      "source": [
        "Create a New Directory"
      ]
    },
    {
      "cell_type": "code",
      "metadata": {
        "colab": {
          "base_uri": "https://localhost:8080/"
        },
        "id": "2_23Q3pBkSqx",
        "outputId": "40df01a6-9930-48ae-ced7-c0c06e2b2bd2"
      },
      "source": [
        "!mkdir .kaggle"
      ],
      "execution_count": 14,
      "outputs": [
        {
          "output_type": "stream",
          "text": [
            "mkdir: cannot create directory ‘.kaggle’: File exists\n"
          ],
          "name": "stdout"
        }
      ]
    },
    {
      "cell_type": "markdown",
      "metadata": {
        "id": "hpBzMTeZ0PD6"
      },
      "source": [
        "Import your Kaggle API Authentication:  Username and Key, Go to Kaggle https://www.kaggle.com/ to your account then click on the create new API Token, You will receive a Username and Key, Keep it safely and dont share "
      ]
    },
    {
      "cell_type": "code",
      "metadata": {
        "id": "1wO-0vvfkfUX"
      },
      "source": [
        "import json\r\n",
        "token = {  \"username\": \"Enter _name _name _name\", \"key\":\"Enter_ Long_Long_Long\"}\r\n",
        "with open('/content/.kaggle/kaggle.json', 'w') as file:\r\n",
        "    json.dump(token, file)"
      ],
      "execution_count": 15,
      "outputs": []
    },
    {
      "cell_type": "markdown",
      "metadata": {
        "id": "wKIHKHkJ0_HJ"
      },
      "source": [
        "To run the File"
      ]
    },
    {
      "cell_type": "code",
      "metadata": {
        "id": "CPOfxvoVlg4D"
      },
      "source": [
        "!cp /content/.kaggle/kaggle.json ~/.kaggle/kaggle.json"
      ],
      "execution_count": 16,
      "outputs": []
    },
    {
      "cell_type": "markdown",
      "metadata": {
        "id": "TzxAYpu01DG3"
      },
      "source": [
        "To configure the path"
      ]
    },
    {
      "cell_type": "code",
      "metadata": {
        "colab": {
          "base_uri": "https://localhost:8080/"
        },
        "id": "HSis8Zuwlltx",
        "outputId": "92c7655a-65fe-4691-e2a9-3e47ef06540a"
      },
      "source": [
        "!kaggle config set -n path -v{/content}"
      ],
      "execution_count": 17,
      "outputs": [
        {
          "output_type": "stream",
          "text": [
            "Warning: Your Kaggle API key is readable by other users on this system! To fix this, you can run 'chmod 600 /root/.kaggle/kaggle.json'\n",
            "- path is now set to: {/content}\n"
          ],
          "name": "stdout"
        }
      ]
    },
    {
      "cell_type": "markdown",
      "metadata": {
        "id": "Eepn6iqJ1NaK"
      },
      "source": [
        " You will get a Warning: Your Kaggle API key is readable by other users on this system! To fix this, you can run 'chmod 600 /root/.kaggle/kaggle.json'\r\n",
        "- path is now set to: {/content}\r\n",
        "\r\n",
        "which can be easily fixed "
      ]
    },
    {
      "cell_type": "code",
      "metadata": {
        "id": "ei1So-9hl_AY"
      },
      "source": [
        "!chmod 600 /root/.kaggle/kaggle.json"
      ],
      "execution_count": 18,
      "outputs": []
    },
    {
      "cell_type": "markdown",
      "metadata": {
        "id": "jLfKp1Yz1WUW"
      },
      "source": [
        "Connection "
      ]
    },
    {
      "cell_type": "code",
      "metadata": {
        "colab": {
          "base_uri": "https://localhost:8080/"
        },
        "id": "5Id5XZIgmCAh",
        "outputId": "01e4e6b5-791b-4982-dd55-c488bbe77ffc"
      },
      "source": [
        "!kaggle datasets list"
      ],
      "execution_count": 19,
      "outputs": [
        {
          "output_type": "stream",
          "text": [
            "Warning: Looks like you're using an outdated API Version, please consider updating (server 1.5.10 / client 1.5.4)\n",
            "ref                                                       title                                         size  lastUpdated          downloadCount  \n",
            "--------------------------------------------------------  -------------------------------------------  -----  -------------------  -------------  \n",
            "michau96/restaurant-business-rankings-2020                Restaurant Business Rankings 2020             16KB  2021-01-30 14:20:45           4976  \n",
            "gpreda/reddit-wallstreetsbets-posts                       Reddit WallStreetBets Posts                    9MB  2021-03-03 08:10:57           2152  \n",
            "yorkehead/stock-market-subreddits                         Stock Market Subreddits                        1MB  2021-01-29 13:53:50            431  \n",
            "aagghh/crypto-telegram-groups                             Crypto telegram groups                       297MB  2021-02-02 09:58:25            255  \n",
            "timoboz/superbowl-history-1967-2020                       Superbowl History 1967 - 2020                  2KB  2020-02-03 23:41:14           4802  \n",
            "prondeau/superbowlads                                     Super Bowl Ads                                36KB  2020-02-04 18:04:07           1329  \n",
            "jessemostipak/african-american-achievements               African American Achievements                 28KB  2020-06-08 22:15:20            311  \n",
            "iainmcintosh/wsb-gme-reddit-submission-vs-stock-price     WSB / GME Reddit submission vs stock price   210KB  2021-01-30 15:31:16             92  \n",
            "docsouth-data/north-american-slave-narratives             North American Slave Narratives               42MB  2017-08-14 18:54:00            214  \n",
            "docsouth-data/the-church-in-the-southern-black-community  The Church in the Southern Black Community    28MB  2017-08-14 19:50:28            136  \n",
            "shivamb/netflix-shows                                     Netflix Movies and TV Shows                    1MB  2021-01-18 16:20:26         101477  \n",
            "gpreda/covid-world-vaccination-progress                   COVID-19 World Vaccination Progress          106KB  2021-03-03 08:10:03          20475  \n",
            "arashnic/hr-analytics-job-change-of-data-scientists       HR Analytics: Job Change of Data Scientists  295KB  2020-12-07 00:25:10          11199  \n",
            "jsphyg/weather-dataset-rattle-package                     Rain in Australia                              4MB  2020-12-11 10:26:12          35820  \n",
            "ayushggarg/all-trumps-twitter-insults-20152021            All Trump's Twitter insults (2015-2021)      581KB  2021-01-20 16:51:05           3730  \n",
            "gregorut/videogamesales                                   Video Game Sales                             381KB  2016-10-26 09:10:49         195217  \n",
            "datasnaek/youtube-new                                     Trending YouTube Video Statistics            201MB  2019-06-03 00:56:47         129354  \n",
            "google/tinyquickdraw                                      QuickDraw Sketches                            11GB  2018-04-18 19:38:04           2878  \n",
            "zynicide/wine-reviews                                     Wine Reviews                                  51MB  2017-11-27 17:08:04         129589  \n",
            "datasnaek/chess                                           Chess Game Dataset (Lichess)                   3MB  2017-09-04 03:09:09          15216  \n"
          ],
          "name": "stdout"
        }
      ]
    },
    {
      "cell_type": "code",
      "metadata": {
        "colab": {
          "base_uri": "https://localhost:8080/"
        },
        "id": "W7-U85l1mXLI",
        "outputId": "6862af5d-c335-4787-9d77-39803844dd12"
      },
      "source": [
        "!kaggle datasets list -s sentiment"
      ],
      "execution_count": 22,
      "outputs": [
        {
          "output_type": "stream",
          "text": [
            "Warning: Looks like you're using an outdated API Version, please consider updating (server 1.5.10 / client 1.5.4)\n",
            "ref                                                       title                                             size  lastUpdated          downloadCount  \n",
            "--------------------------------------------------------  -----------------------------------------------  -----  -------------------  -------------  \n",
            "crowdflower/twitter-airline-sentiment                     Twitter US Airline Sentiment                       3MB  2019-10-16 00:04:05          50232  \n",
            "harriken/emoji-sentiment                                  Emoji sentiment                                   12MB  2017-10-01 09:56:54           2745  \n",
            "kazanova/sentiment140                                     Sentiment140 dataset with 1.6 million tweets      81MB  2017-09-13 22:43:19          48981  \n",
            "yash612/stockmarket-sentiment-dataset                     Stock-Market Sentiment Dataset                   201KB  2020-06-05 19:16:19           2354  \n",
            "bittlingmayer/amazonreviews                               Amazon Reviews for Sentiment Analysis            493MB  2019-11-18 02:50:34          33630  \n",
            "arkhoshghalb/twitter-sentiment-analysis-hatred-speech     Twitter Sentiment Analysis                         2MB  2019-01-06 05:00:19           7812  \n",
            "ankurzing/sentiment-analysis-for-financial-news           Sentiment Analysis for Financial News            903KB  2020-05-27 18:38:15           3229  \n",
            "crowdflower/first-gop-debate-twitter-sentiment            First GOP Debate Twitter Sentiment                 2MB  2019-11-17 21:18:37          18522  \n",
            "mksaad/arabic-sentiment-twitter-corpus                    Arabic Sentiment Twitter Corpus                   17MB  2020-07-27 20:57:37           2100  \n",
            "welkin10/airline-sentiment                                Airline sentiment                                  1MB  2018-05-27 07:23:18           1130  \n",
            "marklvl/sentiment-labelled-sentences-data-set             Sentiment Labelled Sentences Data Set            326KB  2018-04-24 21:20:20           7746  \n",
            "akash14/product-sentiment-classification                  Product Sentiment Classification                 397KB  2020-09-27 20:11:54            189  \n",
            "columbine/imdb-dataset-sentiment-analysis-in-csv-format   IMDB dataset (Sentiment analysis) in CSV format   26MB  2019-11-28 15:44:05           4409  \n",
            "cjroth/chronist                                           Emotion, Aging, and Sentiment Over Time           13MB  2017-02-12 22:44:03           1504  \n",
            "atulanandjha/stanford-sentiment-treebank-v2-sst2          Stanford Sentiment Treebank v2 (SST2)             19MB  2020-03-14 20:27:18           1086  \n",
            "sonaam1234/sentimentdata                                  Sentiment Analysis Dataset                       947KB  2019-11-18 02:41:47           2832  \n",
            "rtatman/sentiment-lexicons-for-81-languages               Sentiment Lexicons for 81 Languages                2MB  2017-09-13 19:59:05           9441  \n",
            "cosmos98/twitter-and-reddit-sentimental-analysis-dataset  Twitter and Reddit Sentimental analysis Dataset   10MB  2019-11-28 14:00:34           1553  \n",
            "lakshmi25npathi/imdb-dataset-of-50k-movie-reviews         IMDB Dataset of 50K Movie Reviews                 26MB  2019-03-09 06:32:21          34806  \n",
            "maxjon/complete-tweet-sentiment-extraction-data           Complete Tweet Sentiment Extraction Data           3MB  2020-04-23 07:25:47            636  \n"
          ],
          "name": "stdout"
        }
      ]
    },
    {
      "cell_type": "markdown",
      "metadata": {
        "id": "TaBAbYPr3MVT"
      },
      "source": [
        "Go to the Kaggle website on the particular dataset and Click  on the dasboard and copy the API commands  which automatically copies and paste the same in the colab ![Screenshot 2021-03-03 113419.png](data:image/png;base64,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)"
      ]
    },
    {
      "cell_type": "code",
      "metadata": {
        "colab": {
          "base_uri": "https://localhost:8080/"
        },
        "id": "5gzp2v89qVcD",
        "outputId": "2346778c-38d1-4ac0-d2e1-75da9f3d2818"
      },
      "source": [
        "!kaggle datasets download -d jessicali9530/kuc-hackathon-winter-2018"
      ],
      "execution_count": 37,
      "outputs": [
        {
          "output_type": "stream",
          "text": [
            "Downloading kuc-hackathon-winter-2018.zip to {/content}/datasets/jessicali9530/kuc-hackathon-winter-2018\n",
            " 93% 38.0M/40.7M [00:00<00:00, 67.5MB/s]\n",
            "100% 40.7M/40.7M [00:00<00:00, 75.3MB/s]\n"
          ],
          "name": "stdout"
        }
      ]
    },
    {
      "cell_type": "markdown",
      "metadata": {
        "id": "6N8wHTPH1sbI"
      },
      "source": [
        "to unzip the file "
      ]
    },
    {
      "cell_type": "code",
      "metadata": {
        "id": "rSHPSpDvqhWC"
      },
      "source": [
        "!unzip \\*.zip"
      ],
      "execution_count": 39,
      "outputs": []
    },
    {
      "cell_type": "markdown",
      "metadata": {
        "id": "pmJboCVF2M_y"
      },
      "source": [
        "To Run the csv and display"
      ]
    },
    {
      "cell_type": "code",
      "metadata": {
        "id": "xjLk7HzutZs_"
      },
      "source": [
        "import pandas as pd\r\n",
        "d = pd.read_csv('Enter_NAME.csv')\r\n",
        "d.head()"
      ],
      "execution_count": null,
      "outputs": []
    }
  ]
}